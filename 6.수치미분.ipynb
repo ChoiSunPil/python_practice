{
 "cells": [
  {
   "cell_type": "markdown",
   "metadata": {},
   "source": [
    "## 수치미분 1차 버전"
   ]
  },
  {
   "cell_type": "code",
   "execution_count": 3,
   "metadata": {},
   "outputs": [
    {
     "name": "stdout",
     "output_type": "stream",
     "text": [
      "6.000000000012662\n"
     ]
    }
   ],
   "source": [
    "import numpy as np\n",
    "def func1(x):\n",
    "    return x*x\n",
    "f = lambda x : func1(x)\n",
    "def numerical_derivative(f,x):\n",
    "    delta_x = 1e-4\n",
    "    return (f(x+delta_x)-f(x-delta_x)) / (2*delta_x)\n",
    "\n",
    "print(numerical_derivative(f,3))"
   ]
  },
  {
   "cell_type": "code",
   "execution_count": 5,
   "metadata": {},
   "outputs": [
    {
     "name": "stdout",
     "output_type": "stream",
     "text": [
      "66.50150507518049\n"
     ]
    }
   ],
   "source": [
    "def func2(x):\n",
    "    return 3*x*(np.exp(x))\n",
    "f = lambda x :  func2(x)\n",
    "def numerical_derivative(f,x):\n",
    "    delta_x = 1e-4\n",
    "    return (f(x+delta_x)-f(x-delta_x)) / (2*delta_x)\n",
    "\n",
    "print(numerical_derivative(f,2))\n"
   ]
  },
  {
   "cell_type": "code",
   "execution_count": 10,
   "metadata": {},
   "outputs": [
    {
     "name": "stdout",
     "output_type": "stream",
     "text": [
      "[ 8.         15.00000001]\n"
     ]
    }
   ],
   "source": [
    "import numpy as np\n",
    "def func3(W):\n",
    "    x = W[0]\n",
    "    y = W[1]\n",
    "    return (2*x + 3*x*y + np.power(y,3))\n",
    "f = lambda x : func3(x)\n",
    "W = np.array([1.0,2.0])\n",
    "def numerical_derivative(f,x):\n",
    "    delta_x = 1e-4\n",
    "    grad = np.zeros_like(x)\n",
    "    \n",
    "    it = np.nditer(x, flags=['multi_index'],op_flags=['readwrite'])\n",
    "    \n",
    "    while not it.finished:\n",
    "        idx = it.multi_index\n",
    "        tmp_val =x[idx]\n",
    "        x[idx] = float(tmp_val) + delta_x\n",
    "        fx1 = f(x)\n",
    "        \n",
    "        x[idx] = float(tmp_val) - delta_x\n",
    "        fx2 = f(x)\n",
    "        grad[idx] = (fx1 - fx2)/(2*delta_x)\n",
    "        \n",
    "        x[idx] = tmp_val\n",
    "        it.iternext()\n",
    "        \n",
    "    return grad\n",
    "print(numerical_derivative(f,W))\n",
    "    "
   ]
  },
  {
   "cell_type": "code",
   "execution_count": 16,
   "metadata": {},
   "outputs": [
    {
     "name": "stdout",
     "output_type": "stream",
     "text": [
      "[[3. 5.]\n",
      " [1. 5.]]\n"
     ]
    }
   ],
   "source": [
    "import numpy as np\n",
    "def func3(k):\n",
    "    it = np.nditer(k, flags=['multi_index'],op_flags=['readwrite'])\n",
    "    x = W[it.multi_index]\n",
    "    it.iternext()\n",
    "    y = W[it.multi_index ]\n",
    "    it.iternext()\n",
    "    z = W[it.multi_index ]\n",
    "    it.iternext()\n",
    "    w = W[it.multi_index ]\n",
    "    return (w*x + np.power(w,2)*y + x*y+z)\n",
    "f = lambda x : func3(x)\n",
    "W = np.array([[1.0,1.0],[0.5,2.0]])\n",
    "def numerical_derivative(f,x):\n",
    "    delta_x = 1e-4\n",
    "    grad = np.zeros_like(x)\n",
    "    \n",
    "    it = np.nditer(x, flags=['multi_index'],op_flags=['readwrite'])\n",
    "    \n",
    "    while not it.finished:\n",
    "        idx = it.multi_index\n",
    "        tmp_val =x[idx]\n",
    "        x[idx] = float(tmp_val) + delta_x\n",
    "        fx1 = f(x)\n",
    "        \n",
    "        x[idx] = float(tmp_val) - delta_x\n",
    "        fx2 = f(x)\n",
    "        grad[idx] = (fx1 - fx2)/(2*delta_x)\n",
    "        \n",
    "        x[idx] = tmp_val\n",
    "        it.iternext()\n",
    "        \n",
    "    return grad\n",
    "print(numerical_derivative(f,W))\n",
    "    "
   ]
  },
  {
   "cell_type": "markdown",
   "metadata": {},
   "source": [
    "\n",
    "\n"
   ]
  }
 ],
 "metadata": {
  "kernelspec": {
   "display_name": "Python 3",
   "language": "python",
   "name": "python3"
  },
  "language_info": {
   "codemirror_mode": {
    "name": "ipython",
    "version": 3
   },
   "file_extension": ".py",
   "mimetype": "text/x-python",
   "name": "python",
   "nbconvert_exporter": "python",
   "pygments_lexer": "ipython3",
   "version": "3.6.8"
  }
 },
 "nbformat": 4,
 "nbformat_minor": 2
}
