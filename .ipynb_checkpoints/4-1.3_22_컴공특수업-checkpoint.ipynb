{
 "cells": [
  {
   "cell_type": "markdown",
   "metadata": {},
   "source": [
    "## C면접 팁"
   ]
  },
  {
   "cell_type": "markdown",
   "metadata": {},
   "source": [
    "```c\n",
    "#include <string.h>\n",
    "main()\n",
    "{\n",
    "  char * s = \"Hello\";\n",
    "  char* t;\n",
    "  char* temp;\n",
    "  t = get_str();\n",
    "  if(s==t) //strcmp 사용 해야 한다.\n",
    "    strcpy(temp,t); //temp에 저장할 공간이 없으므로 공간 할당이 필요 하다.\n",
    "  printf(\"%s\\n\",temp);\n",
    "  return 0;\n",
    "}\n",
    "char* get_str()\n",
    "{\n",
    "  char* str = \"Hello\";\n",
    "  return str; //scope 벗어 날때 스택 영역에 있기 때문에 없어질 가능성이 높다\n",
    "}\n",
    "```"
   ]
  },
  {
   "cell_type": "markdown",
   "metadata": {},
   "source": [
    "## with 구문\n",
    "\n",
    "with 구문 사용시 명시적으로 close 안해주어도, 구문 벗어나면 자동으로 close\n"
   ]
  },
  {
   "cell_type": "markdown",
   "metadata": {},
   "source": [
    "멀티 스레드 프로그램에서 work Thread 에서 file open시\n",
    "먼저 main Thread 가 먼저 죽을 때, window에서 프로그램을 죽여도 안죽는다.\n"
   ]
  },
  {
   "cell_type": "markdown",
   "metadata": {},
   "source": [
    "시스템이란?\n",
    "1. 원하는 출력을 위해서 입력을 어떻게 처리 할것인가?\n",
    " \n",
    "  -  입력, 출력, 출력 처리 방법\n",
    "  -  window 파일 시스템 -> NTFS\n",
    "  -  linux 파일 시스템 -> ext3\n",
    "  -  FAT32 :  4GB 이상"
   ]
  },
  {
   "cell_type": "markdown",
   "metadata": {},
   "source": [
    "## 예외처리"
   ]
  },
  {
   "cell_type": "markdown",
   "metadata": {},
   "source": [
    "- 그 개발,테스트 환경 제대로 이해 못했을때, 예외가 많이 발생한다.\n",
    "- raise 예외 강제 발생, java 에서는 throw"
   ]
  },
  {
   "cell_type": "raw",
   "metadata": {},
   "source": []
  }
 ],
 "metadata": {
  "kernelspec": {
   "display_name": "Python 3",
   "language": "python",
   "name": "python3"
  },
  "language_info": {
   "codemirror_mode": {
    "name": "ipython",
    "version": 3
   },
   "file_extension": ".py",
   "mimetype": "text/x-python",
   "name": "python",
   "nbconvert_exporter": "python",
   "pygments_lexer": "ipython3",
   "version": "3.6.8"
  }
 },
 "nbformat": 4,
 "nbformat_minor": 2
}
