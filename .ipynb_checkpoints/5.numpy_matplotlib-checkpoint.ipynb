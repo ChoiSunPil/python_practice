{
 "cells": [
  {
   "cell_type": "markdown",
   "metadata": {},
   "source": [
    "# numpy \n",
    "\n",
    "## mandatory(ML,DA,NA)"
   ]
  },
  {
   "cell_type": "code",
   "execution_count": 1,
   "metadata": {},
   "outputs": [
    {
     "name": "stdout",
     "output_type": "stream",
     "text": [
      "A == [1 2] type == <class 'numpy.ndarray'>\n"
     ]
    }
   ],
   "source": [
    "import numpy\n",
    "A = numpy.array([1,2])\n",
    "print(\"A ==\",A,\"type ==\",type(A))"
   ]
  },
  {
   "cell_type": "code",
   "execution_count": 2,
   "metadata": {},
   "outputs": [
    {
     "name": "stdout",
     "output_type": "stream",
     "text": [
      "A == [1 2] type == <class 'numpy.ndarray'>\n"
     ]
    }
   ],
   "source": [
    "#권장하는 사용법\n",
    "import numpy as np\n",
    "A = np.array([1,2])\n",
    "print(\"A ==\",A,\"type ==\",type(A))"
   ]
  },
  {
   "cell_type": "code",
   "execution_count": 4,
   "metadata": {},
   "outputs": [
    {
     "name": "stdout",
     "output_type": "stream",
     "text": [
      "result ==  2.718281828459045 , type == <class 'numpy.float64'>\n"
     ]
    }
   ],
   "source": [
    "#주로 사용되지만 비추천\n",
    "from numpy import exp #numpy 라이브러리 안에 exp 만 갖다 쓰겠다. \n",
    "#from numpy impory * numpy 라이브러리 안에 모든것을 갖다 쓰겠다.\n",
    "result  = exp(1)\n",
    "print(\"result == \",result,\", type ==\",type(result))"
   ]
  },
  {
   "cell_type": "markdown",
   "metadata": {},
   "source": [
    "## vector : 1차원 배열\n",
    "## matrix : 2차원 행렬\n",
    "## tensor:  3차원 이상\n",
    "### tensorflow 에서 \"데이터 정의\"가 중요 나머지는 공식에 의해 넣기만 하면 된다."
   ]
  },
  {
   "cell_type": "markdown",
   "metadata": {},
   "source": [
    "## numpy VS list\n",
    "- numpy : 머신러닝 코드 개발 할 경우 자주 사용되는 벡터, 행렬 등을 표현하고, 연산할때 필요한 라이브러리\n",
    "- 행렬 연산하기 위해서는 numpy 사용이 필수다."
   ]
  },
  {
   "cell_type": "code",
   "execution_count": 2,
   "metadata": {},
   "outputs": [
    {
     "name": "stdout",
     "output_type": "stream",
     "text": [
      "[[1, 0], [0, 1], [1, 1], [1, 1]]\n",
      "[[2 1]\n",
      " [1 2]] \n",
      " [[1 0]\n",
      " [0 1]]\n"
     ]
    }
   ],
   "source": [
    "import numpy as np\n",
    "A = np.array([[1,0],[0,1]])\n",
    "B = np.array([[1,1],[1,1]])\n",
    "C = A +B \n",
    "D = A *B\n",
    "E = [[1,0],[0,1]]\n",
    "F = [[1,1],[1,1]]\n",
    "G = E +F\n",
    "print(G)\n",
    "print(C,\"\\n\",D)"
   ]
  },
  {
   "cell_type": "code",
   "execution_count": 3,
   "metadata": {
    "scrolled": true
   },
   "outputs": [
    {
     "name": "stdout",
     "output_type": "stream",
     "text": [
      "A.shape == (3,) B.shape == (3, 3)\n",
      "A.ndim == 1 B.ndim == 2\n"
     ]
    }
   ],
   "source": [
    "A = np.array([1,2,3])\n",
    "B = np.array([[4,5,6],[4,5,6],[4,5,6]])\n",
    "\n",
    "# vector A,B 형상 출력 => shape\n",
    "print(\"A.shape ==\",A.shape,\"B.shape ==\",B.shape) #vector는 행이 될수도 열이 될수도 있기 떄문에 유연하다.\n",
    "print(\"A.ndim ==\",A.ndim,\"B.ndim ==\",B.ndim) #내가 쓰는 Data가 어떤 상태인지 헷갈릴때 사용"
   ]
  },
  {
   "cell_type": "code",
   "execution_count": 26,
   "metadata": {},
   "outputs": [
    {
     "name": "stdout",
     "output_type": "stream",
     "text": [
      "A + B = [[ 5  7  9]\n",
      " [11 13 15]]\n",
      "A - B = [[-3 -3 -3]\n",
      " [ 3  3  3]]\n",
      "A * B = [[ 4 10 18]\n",
      " [28 40 54]]\n",
      "A / B = [[0.25 0.4  0.5 ]\n",
      " [1.75 1.6  1.5 ]]\n",
      "reshape A= [[1]\n",
      " [2]\n",
      " [3]\n",
      " [7]\n",
      " [8]\n",
      " [9]] \n",
      " C.shape (6, 1)\n"
     ]
    }
   ],
   "source": [
    "A = np.array([[1,2,3],[7,8,9]])\n",
    "B = np.array([4,5,6]) # 차원이 맞지 안아도,vector 와 matrix의 열이 맞다면 연산은 되지만, shape일치 하지 않는 matrix끼리 연산 불가\n",
    "print(\"A + B =\",A+B)\n",
    "print(\"A - B =\",A-B)\n",
    "print(\"A * B =\",A*B)\n",
    "print(\"A / B =\",A/B)\n",
    "C =A.reshape(-1,1) #-1 같은 경우 오른쪽 파라미터 만큼 열만 맞추면 됨 reshape는 형 변환용\n",
    "print(\"reshape A=\", C,'\\n',\"C.shape\",C.shape)"
   ]
  },
  {
   "cell_type": "markdown",
   "metadata": {},
   "source": [
    "## shape 확인 \n",
    "* reshape\n",
    "* transpose\n",
    "* dot product\n",
    "\n",
    "### shape 을 일일히 다 확인 하는 작업이 필요하다.\n",
    "### 곱하기의 의미 : 원하는 출력을 만들기 위해 입력 값을 변형 해 주는 것.\n",
    "### ex) *1 원본 데이터 보존 *0 데이터 삭제  *3 확대\n",
    "### 행렬 곱 : 평균적인 effact 를 알 수 있다.\n",
    "\n"
   ]
  },
  {
   "cell_type": "code",
   "execution_count": 5,
   "metadata": {},
   "outputs": [
    {
     "name": "stdout",
     "output_type": "stream",
     "text": [
      "A.shape == (1, 3)\n"
     ]
    }
   ],
   "source": [
    "import numpy as np\n",
    "A = np.array([1,2,3])\n",
    "A = A.reshape(1,3)\n",
    "print(\"A.shape ==\",A.shape)"
   ]
  },
  {
   "cell_type": "markdown",
   "metadata": {},
   "source": [
    "###  행렬 곱은 원래 데이터를 줄이는 효과 =>압축 알고리즘은 행렬을 이용해서 한다. "
   ]
  },
  {
   "cell_type": "code",
   "execution_count": 29,
   "metadata": {},
   "outputs": [
    {
     "name": "stdout",
     "output_type": "stream",
     "text": [
      "[[14 14]\n",
      " [32 32]]\n"
     ]
    }
   ],
   "source": [
    "#dot product 행렬곱 (m,n)*(n,m) 형식\n",
    "import numpy as np \n",
    "A = np.array([[1,2,3],[4,5,6]])\n",
    "B = np.array([[1,1],[2,2],[3,3]])\n",
    "C = np.dot(A,B)\n",
    "print(C)"
   ]
  },
  {
   "cell_type": "markdown",
   "metadata": {},
   "source": [
    "## numpy broadcast => 사칙연산에서 쓰이는 것이다.\n",
    "* numpy는 차원이 작은쪽을 큰 쪽으로 맞추어줘서 사칙연산이 가능하게 한다.\n",
    "* 행렬 곱에는 적용 시킬 수 없다."
   ]
  },
  {
   "cell_type": "code",
   "execution_count": 30,
   "metadata": {},
   "outputs": [
    {
     "name": "stdout",
     "output_type": "stream",
     "text": [
      "[[6 7]\n",
      " [8 9]]\n"
     ]
    }
   ],
   "source": [
    "from numpy import *\n",
    "A =array([[1,2],[3,4]])\n",
    "B =5\n",
    "print(A+B)\n"
   ]
  },
  {
   "cell_type": "markdown",
   "metadata": {},
   "source": [
    "## transpose\n",
    "* 3X2 -> 2X3 :1행을 1열, 2행을 2열\n"
   ]
  },
  {
   "cell_type": "code",
   "execution_count": 35,
   "metadata": {
    "scrolled": true
   },
   "outputs": [
    {
     "name": "stdout",
     "output_type": "stream",
     "text": [
      "A.shape (3, 2) B.shape (2, 3)\n",
      "[[1 2 3]\n",
      " [2 3 4]] \n",
      "\n",
      "[[ 5  8 11]\n",
      " [ 8 13 18]\n",
      " [11 18 25]]\n"
     ]
    }
   ],
   "source": [
    "import numpy as np\n",
    "A = np.array([[1,2],[2,3],[3,4]])\n",
    "B = A.T\n",
    "print(\"A.shape\",A.shape,\"B.shape\",B.shape)\n",
    "print(B,'\\n')\n",
    "print(A.dot(B))"
   ]
  },
  {
   "cell_type": "code",
   "execution_count": 45,
   "metadata": {},
   "outputs": [
    {
     "name": "stdout",
     "output_type": "stream",
     "text": [
      "A shape :  (3, 2)\n",
      "[[10 20]\n",
      " [30 40]\n",
      " [50 60]]\n",
      "A[0,0] : 10  A[0][0] : 10\n",
      "A[0:-1,1:2]\n",
      " [[20]\n",
      " [40]]\n",
      "A[0:-1, 1:2]\n",
      " [[10 20]\n",
      " [30 40]\n",
      " [50 60]]\n"
     ]
    }
   ],
   "source": [
    "#numpy 행렬 indexing/slicing\n",
    "#matrix 도 list 처럼 indexing,slicing 둘다 가능\n",
    "A = np.array([10,20,30,40,50,60]).reshape(3,2)\n",
    "print(\"A shape : \",A.shape)\n",
    "print(A)\n",
    "print(\"A[0,0] :\",A[0,0],\" A[0][0] :\",A[0][0]) #두가지 표현 모두 가능\n",
    "print(\"A[0:-1,1:2]\\n\",A[0:-1,1:2]) #[0:-1][1:2]도 똑같이 작동\n",
    "print(\"A[0:-1, 1:2]\\n\",A[:][:]) #모든행 모든 열\n"
   ]
  },
  {
   "cell_type": "code",
   "execution_count": 48,
   "metadata": {},
   "outputs": [
    {
     "name": "stdout",
     "output_type": "stream",
     "text": [
      "[[10 20 30 40]\n",
      " [50 60 70 80]] \n",
      "\n",
      "A,shape == (2, 4) \n",
      "\n",
      "current value=> 10\n",
      "current value=> 20\n",
      "current value=> 30\n",
      "current value=> 40\n",
      "current value=> 50\n",
      "current value=> 60\n",
      "current value=> 70\n",
      "current value=> 80\n"
     ]
    }
   ],
   "source": [
    "# numpy 행렬 iterator\n",
    "# 행렬 모든 우너소를 access 하는 경우에는 iterator 사용가능\n",
    "import numpy as np\n",
    "A = np.array([[10,20,30,40],[50,60,70,80]])\n",
    "print(A,'\\n')\n",
    "print(\"A,shape ==\",A.shape,'\\n')\n",
    "\n",
    "# 행렬 A의 iterator 생성\n",
    "it = np.nditer(A,flags=['multi_index'],op_flags=['readwrite'])\n",
    "\n",
    "while not it.finished:\n",
    "    idx = it.multi_index\n",
    "    print(\"current value=>\",A[idx])\n",
    "    it.iternext()"
   ]
  },
  {
   "cell_type": "code",
   "execution_count": 54,
   "metadata": {},
   "outputs": [
    {
     "name": "stdout",
     "output_type": "stream",
     "text": [
      "[[70. 80. 75.]\n",
      " [93. 88. 93.]\n",
      " [89. 91. 90.]]\n",
      "[[152.]\n",
      " [185.]\n",
      " [180.]]\n",
      "x_data.ndim : 2 x_data.shape (3, 3)\n",
      "y_data.ndim : 2 y_data.shape (3, 1)\n"
     ]
    }
   ],
   "source": [
    "#numpy useful function1\n",
    "#시험 출제 가능성\n",
    "import numpy as np\n",
    "loaded_data = np.loadtxt('./data.txt',delimiter=',',dtype = np.float32)\n",
    "x_data = loaded_data[: ,:-1]\n",
    "y_data = loaded_data[:,[-1]]\n",
    "print(x_data)\n",
    "print(y_data)\n",
    "print(\"x_data.ndim :\",x_data.ndim , \"x_data.shape\",x_data.shape)\n",
    "print(\"y_data.ndim :\",y_data.ndim,\"y_data.shape\",y_data.shape)"
   ]
  },
  {
   "cell_type": "code",
   "execution_count": 56,
   "metadata": {},
   "outputs": [
    {
     "name": "stdout",
     "output_type": "stream",
     "text": [
      "random_number1 == [0.96882463 0.1837741  0.72507942] , random_number1.shape == (3,)\n",
      "random_number2 == [[0.39508983 0.61095495 0.70498441]] , random_number2.shape == (1, 3)\n",
      "random_number3 == [[0.04614289]\n",
      " [0.36919017]\n",
      " [0.75898055]] , random_number3.shape == (3, 1)\n"
     ]
    }
   ],
   "source": [
    "#numpy useful function2\n",
    "#numpy.random.rand  #paramter로 전달된 shape으로 랜덤한 수 생성\n",
    "import numpy as np\n",
    "random_number1 = np.random.rand(3)\n",
    "random_number2 = np.random.rand(1,3) \n",
    "random_number3 = np.random.rand(3,1)\n",
    "print(\"random_number1 ==\",random_number1,\", random_number1.shape ==\",random_number1.shape)\n",
    "print(\"random_number2 ==\",random_number2,\", random_number2.shape ==\",random_number2.shape)\n",
    "print(\"random_number3 ==\",random_number3,\", random_number3.shape ==\",random_number3.shape)"
   ]
  },
  {
   "cell_type": "code",
   "execution_count": 57,
   "metadata": {},
   "outputs": [
    {
     "name": "stdout",
     "output_type": "stream",
     "text": [
      "np.sum(x) == 20\n",
      "np.exp(x) == [   7.3890561    54.59815003  403.42879349 2980.95798704]\n",
      "np.log(x) == [0.69314718 1.38629436 1.79175947 2.07944154]\n"
     ]
    }
   ],
   "source": [
    "# sum , exp ,log\n",
    "x = np.array([2,4,6,8])\n",
    "print(\"np.sum(x) ==\",np.sum(x))\n",
    "print(\"np.exp(x) ==\",np.exp(x))\n",
    "print(\"np.log(x) ==\",np.log(x))"
   ]
  },
  {
   "cell_type": "code",
   "execution_count": 65,
   "metadata": {},
   "outputs": [
    {
     "name": "stdout",
     "output_type": "stream",
     "text": [
      "np.min(x) == 2\n",
      "np.max(x) == 8\n",
      "np.argmax(x) == 3\n",
      "np.argmin(x) == 0\n",
      "np.max(x) == [2 5 8]\n",
      "np.min(x) == [0 2 3]\n",
      "np.max(x) == [6 3 8]\n",
      "np.min(x) == [2 1 0]\n",
      "np.argmax(x) == [0 2 2]\n",
      "np.argmin(x) == [2 1 1]\n",
      "np.argmax(x) == [2 2 2]\n",
      "np.argmin(x) == [0 0 0]\n",
      "[[1. 1. 1.]\n",
      " [1. 1. 1.]\n",
      " [1. 1. 1.]]\n",
      "[[0. 0. 0. 0. 0.]\n",
      " [0. 0. 0. 0. 0.]\n",
      " [0. 0. 0. 0. 0.]\n",
      " [0. 0. 0. 0. 0.]]\n",
      "0.3333333333333333\n"
     ]
    }
   ],
   "source": [
    "#numpy useful function3\n",
    "#max, min, argmax, argmin\n",
    "import numpy as np\n",
    "x = np.array([2,4,6,8])\n",
    "print(\"np.min(x) ==\",np.min(x))\n",
    "print(\"np.max(x) ==\",np.max(x))\n",
    "print(\"np.argmax(x) ==\",np.argmax(x)) ##최대값의 인덱스\n",
    "print(\"np.argmin(x) ==\",np.argmin(x)) ##최솟값의 인덱스\n",
    "\n",
    "x = np.array([[2,4,6],[1,2,3],[0,5,8]])\n",
    "print(\"np.max(x) ==\",np.max(x,0)) #axis 0은 열기준 1은 행기준\n",
    "print(\"np.min(x) ==\",np.min(x,axis=0))\n",
    "\n",
    "print(\"np.max(x) ==\",np.max(x,axis=1)) #axis 0은 열기준 1은 행기준\n",
    "print(\"np.min(x) ==\",np.min(x,axis=1))\n",
    "\n",
    "print(\"np.argmax(x) ==\",np.argmax(x,axis=0))\n",
    "print(\"np.argmin(x) ==\",np.argmin(x,axis=0))\n",
    "\n",
    "print(\"np.argmax(x) ==\",np.argmax(x,axis=1))\n",
    "print(\"np.argmin(x) ==\",np.argmin(x,axis=1))\n",
    "\n",
    "A = np.ones([3,3])\n",
    "B = np.zeros([4,5])\n",
    "print(A)\n",
    "print(B)\n",
    "A = np.array([[10,9,11],[-1,0,10],[3,4,5]])\n",
    "B = np.array([[10,1,0],[-2,1,0],[1,3,5]])\n",
    "accuarancy = np.equal(np.argmax(A,1),np.argmax(B,1))\n",
    "print(sum(accuarancy)/len(accuarancy))"
   ]
  },
  {
   "cell_type": "code",
   "execution_count": 70,
   "metadata": {},
   "outputs": [
    {
     "data": {
      "image/png": "[encoded data removed]",
      "text/plain": [
       "<Figure size 432x288 with 1 Axes>"
      ]
     },
     "metadata": {
      "needs_background": "light"
     },
     "output_type": "display_data"
    }
   ],
   "source": [
    "# matplotlib , scattor plot -> 내가 쓰는 데이터가 어떤 범위를 가지는지 알고 싶을 때\n",
    "import matplotlib.pylab as plt\n",
    "import numpy as np\n",
    " \n",
    "%matplotlib inline\n",
    "x_data = np.random.rand(100)\n",
    "y_data = np.random.rand(100)\n",
    "\n",
    "plt.title('scattor plot')\n",
    "plt.grid() #점선\n",
    "plt.scatter(x_data,y_data,color='b',marker='o')\n",
    "plt.show()"
   ]
  },
  {
   "cell_type": "code",
   "execution_count": 80,
   "metadata": {},
   "outputs": [
    {
     "data": {
      "image/png": "[encoded data removed]",
      "text/plain": [
       "<Figure size 432x288 with 1 Axes>"
      ]
     },
     "metadata": {
      "needs_background": "light"
     },
     "output_type": "display_data"
    }
   ],
   "source": [
    "import matplotlib.pylab as plt\n",
    "import numpy as np\n",
    " \n",
    "%matplotlib inline\n",
    "x_data = [x for x in range(-5,5)]\n",
    "y_data = [y*y for y in range(-5,5)]\n",
    "plt.title('line plot')\n",
    "plt.grid()\n",
    "plt.plot(x_data,y_data,color='#ff0000')\n",
    "plt.show()"
   ]
  },
  {
   "cell_type": "code",
   "execution_count": null,
   "metadata": {},
   "outputs": [],
   "source": []
  },
  {
   "cell_type": "code",
   "execution_count": null,
   "metadata": {},
   "outputs": [],
   "source": []
  }
 ],
 "metadata": {
  "kernelspec": {
   "display_name": "Python 3",
   "language": "python",
   "name": "python3"
  },
  "language_info": {
   "codemirror_mode": {
    "name": "ipython",
    "version": 3
   },
   "file_extension": ".py",
   "mimetype": "text/x-python",
   "name": "python",
   "nbconvert_exporter": "python",
   "pygments_lexer": "ipython3",
   "version": "3.6.8"
  }
 },
 "nbformat": 4,
 "nbformat_minor": 2
}
