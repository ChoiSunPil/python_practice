{
 "cells": [
  {
   "cell_type": "markdown",
   "metadata": {},
   "source": [
    "## 파이썬 확산 배경\n",
    "- 문법 쉽고, 직관, 빠르게 배울수 있다.\n",
    "- 뛰어난 확장성과 유연성\n",
    "\n",
    "## Data type - 모두 class\n",
    "* list\n",
    "* tuple\n",
    "* dictionary\n",
    "* string"
   ]
  },
  {
   "cell_type": "markdown",
   "metadata": {},
   "source": [
    "## LIST 데이터 타입\n",
    "- '배열'과 비슷한 성질\n",
    "- -1은 맨 뒤를 나타낸다.\n",
    "- -1은 주로 머신러닝 이용시, 데이터 값의 맨 뒤에 정답을 넣기 때문에 사용한다."
   ]
  },
  {
   "cell_type": "code",
   "execution_count": 3,
   "metadata": {},
   "outputs": [
    {
     "name": "stdout",
     "output_type": "stream",
     "text": [
      "a[4] ==  50 ,a[2] ==  30\n"
     ]
    }
   ],
   "source": [
    "a = [10,20,30,40,50]\n",
    "print(\"a[4] == \",a[-1], \",a[2] == \",a[2])"
   ]
  },
  {
   "cell_type": "code",
   "execution_count": 1,
   "metadata": {},
   "outputs": [
    {
     "name": "stdout",
     "output_type": "stream",
     "text": [
      "b[-1][-1][-1] ==  3\n",
      "b[2][-1] ==  o\n"
     ]
    }
   ],
   "source": [
    "b = [10,20,\"hello\",[True,3.14],[1,[2,3]]]\n",
    "print(\"b[-1][-1][-1] == \",b[-1][-1][-1])\n",
    "print(\"b[2][-1] == \",b[2][-1])"
   ]
  },
  {
   "cell_type": "code",
   "execution_count": 15,
   "metadata": {},
   "outputs": [
    {
     "name": "stdout",
     "output_type": "stream",
     "text": [
      "[100, [200, 100]]\n",
      "a[0:2] ==  [10, 20]\n",
      "a[:2] ==  [10, 20]\n",
      "a[-1:] ==  [50]\n",
      "a[-1:-3] ==  []\n",
      "a[3:1] == []\n",
      "a ==  [10, 20, 30, 40, 50]\n"
     ]
    }
   ],
   "source": [
    "#slicing arr[a:b] => a <= idx < b\n",
    "c = []\n",
    "a = [10,20,30,40,50]\n",
    "c.append(100),c.append([200,100])\n",
    "print(c)\n",
    "print(\"a[0:2] == \",a[0:2])\n",
    "print(\"a[:2] == \",a[:2])\n",
    "print(\"a[-1:] == \",a[-1:])\n",
    "print(\"a[-1:-3] == \",a[-1:-3]) ## 결과는 빈배열\n",
    "print(\"a[3:1] ==\",a[3:1]) ##앞의 숫자가 더 크면 빈배열 출력 \n",
    "print(\"a == \",a)"
   ]
  },
  {
   "cell_type": "markdown",
   "metadata": {},
   "source": [
    "## TUPLE 데이터 타입\n",
    "튜플은 리스트의 모든 기능 사용 가능,그러나 값 변경 불가\n",
    "함수 여러개 값 리턴 할 떄 사용\n",
    "\n",
    "**tuple 내부의 list 원소의 값은 변경이 가능하다.**"
   ]
  },
  {
   "cell_type": "code",
   "execution_count": 21,
   "metadata": {},
   "outputs": [
    {
     "name": "stdout",
     "output_type": "stream",
     "text": [
      "d[0] ==  10\n",
      "d[1] ==  spring\n",
      "d[1][-1] ==  g\n"
     ]
    }
   ],
   "source": [
    "d = (10,'spring' ,[20,30],30,40,50)\n",
    "print(\"d[0] == \",d[0])\n",
    "d[2][-1] = 100\n",
    "d[1].replace('spring','summer') ##문자열은 안바뀐다.\n",
    "print(\"d[1] == \",d[1])\n",
    "print(\"d[1][-1] == \",d[1][-1]) #터플 내의 리스트는 변경 가능\n"
   ]
  },
  {
   "cell_type": "markdown",
   "metadata": {},
   "source": [
    "## dictionary - JSON과 유사\n",
    "- hashmap ,map과 구조가 비슷\n",
    "- key 와 value를 한 쌍으로 해서 데이터 저장\n",
    "- 순서적인 테이블 형태 원한다면 ordered dic 사용\n"
   ]
  },
  {
   "cell_type": "code",
   "execution_count": 25,
   "metadata": {
    "scrolled": true
   },
   "outputs": [
    {
     "name": "stdout",
     "output_type": "stream",
     "text": [
      "score[kim] == 90\n",
      "score == {'Kim': 90, 'LEE': 85, 'JUN': 95}\n",
      "score key ==  dict_keys(['Kim', 'LEE', 'JUN'])\n",
      "score value == dict_values([90, 85, 95])\n",
      "score items ==  dict_items([('Kim', 90), ('LEE', 85), ('JUN', 95)])\n"
     ]
    }
   ],
   "source": [
    "score = {\"Kim\":90,\"LEE\":85,\"JUN\":95}\n",
    "print(\"score[kim] ==\", score[\"Kim\"])\n",
    "print(\"score ==\",score)\n",
    "print(\"score key == \",score.keys())\n",
    "print(\"score value ==\",score.values())\n",
    "print(\"score items == \",score.items())"
   ]
  },
  {
   "cell_type": "markdown",
   "metadata": {},
   "source": [
    "## string \n",
    "- \" \",' ' 둘 다 사용 가능\n",
    "- 문자열 내에 각각 값 또한 문자열\n",
    "- 문자열 분리하여 list 반환하는 split()-> 문자열 데이터 전처리에 사용"
   ]
  },
  {
   "cell_type": "code",
   "execution_count": 38,
   "metadata": {},
   "outputs": [
    {
     "name": "stdout",
     "output_type": "stream",
     "text": [
      "['123', 'CD']\n"
     ]
    }
   ],
   "source": [
    "a = '1234CD'\n",
    "b = a.split('4') #b는 list\n",
    "print(b);\n"
   ]
  },
  {
   "cell_type": "markdown",
   "metadata": {},
   "source": [
    "## 유용한 함수\n",
    "- type(), len()\n",
    "- list(),str(),int()"
   ]
  },
  {
   "cell_type": "code",
   "execution_count": 40,
   "metadata": {
    "scrolled": true
   },
   "outputs": [
    {
     "name": "stdout",
     "output_type": "stream",
     "text": [
      "<class 'list'> <class 'tuple'> <class 'str'> <class 'list'>\n",
      "5 5 2 12 3\n"
     ]
    }
   ],
   "source": [
    "a = [10,20,30,40,50]\n",
    "b = (10,20,30,40,50)\n",
    "c = {\"KIM\":90 , \"LEE\":80}\n",
    "d = 'Seoul, Korea'\n",
    "e = [[100,200],[300,400],[500,600]]\n",
    "print(type(a),type(b),type(d),type(e))\n",
    "print(len(a),len(b),len(c),len(d),len(e))"
   ]
  },
  {
   "cell_type": "code",
   "execution_count": 42,
   "metadata": {},
   "outputs": [
    {
     "name": "stdout",
     "output_type": "stream",
     "text": [
      "['H', 'e', 'l', 'l', 'o'] ['KIM', 'LEE'] [90, 80] [('KIM', 90), ('LEE', 80)]\n"
     ]
    }
   ],
   "source": [
    "a = 'Hello'\n",
    "b = {\"KIM\":90 , \"LEE\":80}\n",
    "print(list(a),list(b.keys()),list(b.values()),list(b.items()))"
   ]
  },
  {
   "cell_type": "code",
   "execution_count": null,
   "metadata": {},
   "outputs": [],
   "source": []
  }
 ],
 "metadata": {
  "kernelspec": {
   "display_name": "Python 3",
   "language": "python",
   "name": "python3"
  },
  "language_info": {
   "codemirror_mode": {
    "name": "ipython",
    "version": 3
   },
   "file_extension": ".py",
   "mimetype": "text/x-python",
   "name": "python",
   "nbconvert_exporter": "python",
   "pygments_lexer": "ipython3",
   "version": "3.6.8"
  }
 },
 "nbformat": 4,
 "nbformat_minor": 2
}
