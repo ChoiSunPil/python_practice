{
 "cells": [
  {
   "cell_type": "markdown",
   "metadata": {},
   "source": [
    "## LIST 데이터 타입 \n",
    "-1은 맨 뒤를 나타낸다.\n",
    "-1은 주로 머신러닝 이용시, 데이터 값의 맨 뒤에 정답을 넣기 때문에 사용한다."
   ]
  },
  {
   "cell_type": "code",
   "execution_count": 4,
   "metadata": {},
   "outputs": [
    {
     "name": "stdout",
     "output_type": "stream",
     "text": [
      "a[0] ==  50 ,a[2] ==  30\n"
     ]
    }
   ],
   "source": [
    "a = [10,20,30,40,50]\n",
    "print(\"a[0] == \",a[-1], \",a[2] == \",a[2])"
   ]
  },
  {
   "cell_type": "code",
   "execution_count": 5,
   "metadata": {},
   "outputs": [
    {
     "name": "stdout",
     "output_type": "stream",
     "text": [
      "b[-1][-1][-1] ==  3\n"
     ]
    }
   ],
   "source": [
    "b = [10,20,\"hello\",[True,3.14],[1,[2,3]]]\n",
    "print(\"b[-1][-1][-1] == \",b[-1][-1][-1])"
   ]
  },
  {
   "cell_type": "code",
   "execution_count": 11,
   "metadata": {},
   "outputs": [
    {
     "name": "stdout",
     "output_type": "stream",
     "text": [
      "[100, [200, 100]]\n",
      "a[0:2] ==  [10, 20]\n",
      "a[:2] ==  [10, 20]\n",
      "a[-1:] ==  [50]\n"
     ]
    }
   ],
   "source": [
    "c = []\n",
    "c.append(100),c.append([200,100])\n",
    "print(c)\n",
    "print(\"a[0:2] == \",a[0:2])\n",
    "print(\"a[:2] == \",a[:2])\n",
    "print(\"a[-1:] == \",a[-1:])"
   ]
  },
  {
   "cell_type": "markdown",
   "metadata": {},
   "source": [
    "## TUPLE 데이터 타입\n",
    "튜플은 리스트의 모든 기능 사용 가능,그러나 값 변경 불가\n",
    "함수 여러개 값 리턴 할 떄 사용\n",
    "\n",
    "**tuple 내부의 list 원소의 값은 변경이 가능하다.**"
   ]
  },
  {
   "cell_type": "code",
   "execution_count": 17,
   "metadata": {},
   "outputs": [
    {
     "name": "stdout",
     "output_type": "stream",
     "text": [
      "d[0] ==  10\n",
      "d[1][-1] ==  100\n"
     ]
    }
   ],
   "source": [
    "d = (10,[20,30],30,40,50)\n",
    "print(\"d[0] == \",d[0])\n",
    "d[1][-1] = 100\n",
    "print(\"d[1][-1] == \",d[1][-1])"
   ]
  },
  {
   "cell_type": "code",
   "execution_count": null,
   "metadata": {},
   "outputs": [],
   "source": []
  },
  {
   "cell_type": "code",
   "execution_count": null,
   "metadata": {},
   "outputs": [],
   "source": []
  }
 ],
 "metadata": {
  "kernelspec": {
   "display_name": "Python 3",
   "language": "python",
   "name": "python3"
  },
  "language_info": {
   "codemirror_mode": {
    "name": "ipython",
    "version": 3
   },
   "file_extension": ".py",
   "mimetype": "text/x-python",
   "name": "python",
   "nbconvert_exporter": "python",
   "pygments_lexer": "ipython3",
   "version": "3.6.8"
  }
 },
 "nbformat": 4,
 "nbformat_minor": 2
}
