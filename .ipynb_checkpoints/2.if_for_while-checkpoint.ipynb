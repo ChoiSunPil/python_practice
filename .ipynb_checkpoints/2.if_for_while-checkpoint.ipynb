{
 "cells": [
  {
   "cell_type": "markdown",
   "metadata": {},
   "source": [
    "## if_for_while\n",
    "- 들여쓰기 사용\n",
    "- 동일한 블럭, 동일한 들여쓰기-> 혼용시 IndentationError: unexpectexd indent 에러"
   ]
  },
  {
   "cell_type": "code",
   "execution_count": 1,
   "metadata": {},
   "outputs": [
    {
     "name": "stdout",
     "output_type": "stream",
     "text": [
      "a == 1\n",
      "positive number\n"
     ]
    }
   ],
   "source": [
    "#if condition : \n",
    "a = 1\n",
    "if a>0:\n",
    "    print(\"a ==\",a)\n",
    "    print(\"positive number\")\n",
    "elif a == 0:\n",
    "    print(\"a ==\",a)\n",
    "    print(\"zero\")\n",
    "else:\n",
    "    print(\"a ==\",a)\n",
    "    print(\"negative number\")"
   ]
  },
  {
   "cell_type": "code",
   "execution_count": 3,
   "metadata": {},
   "outputs": [
    {
     "name": "stdout",
     "output_type": "stream",
     "text": [
      "45 is not in list_data\n",
      "key1 is in dict_data\n"
     ]
    }
   ],
   "source": [
    "# if condition in list, dict ...\n",
    "list_data = [10,20,30,40,50]\n",
    "dict_data = {'key1':1,'key2':2}\n",
    "\n",
    "if 45 in list_data:\n",
    "    print(\"45 is in list_data\")\n",
    "else:\n",
    "    print(\"45 is not in list_data\")\n",
    "\n",
    "if 'key1' in dict_data:\n",
    "    print(\"key1 is in dict_data\")\n",
    "else:\n",
    "    print(\"key1 is not in dict_data\")"
   ]
  },
  {
   "cell_type": "code",
   "execution_count": 10,
   "metadata": {},
   "outputs": [
    {
     "name": "stdout",
     "output_type": "stream",
     "text": [
      "0  1  2  3  4  5  6  7  8  9  \n",
      "0  1  2  3  4  5  6  7  8  9  \n",
      "0  2  4  6  8  "
     ]
    }
   ],
   "source": [
    "#for variable in range()\n",
    "for data in range(10): #range 함수는 시작 값 ~ 마지막 값 -1\n",
    "     print(data,\" \",end='')\n",
    "print()\n",
    "for data in range(0,10):\n",
    "    print(data,\" \",end='')\n",
    "print()\n",
    "for data in range(0,10,2): #2씩 증가\n",
    "    print(data,\" \",end='')\n",
    "    "
   ]
  },
  {
   "cell_type": "code",
   "execution_count": 16,
   "metadata": {},
   "outputs": [
    {
     "name": "stdout",
     "output_type": "stream",
     "text": [
      "10  20  30  40  50  \n",
      "key1  key2  \n",
      "key1   1\n",
      "key2   2\n"
     ]
    }
   ],
   "source": [
    "#for variable in list,dict...\n",
    "list_data = [10,20,30,40,50]\n",
    "\n",
    "for data in list_data:\n",
    "    print(data,\" \",end='')\n",
    "print()\n",
    "dict_data = {'key1':1,'key2':2}\n",
    "\n",
    "for data in dict_data:\n",
    "    print(data,\" \",end='')\n",
    "print()\n",
    "for key,value in dict_data.items():\n",
    "    print(key,\" \",value)\n",
    "    "
   ]
  },
  {
   "cell_type": "code",
   "execution_count": 20,
   "metadata": {
    "scrolled": true
   },
   "outputs": [
    {
     "name": "stdout",
     "output_type": "stream",
     "text": [
      "[0, 1, 4, 9, 16]\n",
      "all_data == [[1, 10], [2, 15], [3, 30], [4, 55]]\n",
      "x_data == [1, 2, 3, 4]\n",
      "y_data == [10, 15, 30, 55]\n",
      "[[1, 2, 3], [10, 20, 30], [-1, -2, -3]]\n",
      "[[4], [40], [-4]]\n"
     ]
    }
   ],
   "source": [
    "#list comprehension\n",
    "# 리스트의 [] 괄호 안에  for 루프를 사용\n",
    "list_data = [x**2 for x in range(5)]\n",
    "print(list_data)\n",
    "\n",
    "raw_data = [[1,10],[2,15],[3,30],[4,55]]\n",
    "all_data = [x for x in raw_data]\n",
    "x_data = [x[0] for x in raw_data]\n",
    "y_data = [x[1] for x in raw_data]\n",
    "\n",
    "print(\"all_data ==\",all_data)\n",
    "print(\"x_data ==\",x_data)\n",
    "print(\"y_data ==\",y_data)\n",
    "\n",
    "data = [[1,2,3,4],[10,20,30,40],[-1,-2,-3,-4]]\n",
    "input_data = [x[:-1] for x in data]\n",
    "target_data = [x[-1:] for x in data]\n",
    "print(input_data)\n",
    "print(target_data)"
   ]
  },
  {
   "cell_type": "code",
   "execution_count": null,
   "metadata": {},
   "outputs": [],
   "source": [
    "#while\n",
    "data = 5\n",
    "\n",
    "while data >= 0:\n",
    "    print(\"data ==\",data)\n",
    "    data -= 1\n",
    "\n",
    "data = 5\n",
    "while data >=0:\n",
    "    print(\"data ==\",data)\n",
    "    data -= 1\n",
    "    \n",
    "    if data ==2:\n",
    "        print(\"break here\")\n",
    "        break"
   ]
  },
  {
   "cell_type": "code",
   "execution_count": null,
   "metadata": {},
   "outputs": [],
   "source": []
  }
 ],
 "metadata": {
  "kernelspec": {
   "display_name": "Python 3",
   "language": "python",
   "name": "python3"
  },
  "language_info": {
   "codemirror_mode": {
    "name": "ipython",
    "version": 3
   },
   "file_extension": ".py",
   "mimetype": "text/x-python",
   "name": "python",
   "nbconvert_exporter": "python",
   "pygments_lexer": "ipython3",
   "version": "3.6.8"
  }
 },
 "nbformat": 4,
 "nbformat_minor": 2
}
