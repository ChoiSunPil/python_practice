{
 "cells": [
  {
   "cell_type": "markdown",
   "metadata": {},
   "source": [
    "## 함수"
   ]
  },
  {
   "cell_type": "code",
   "execution_count": 1,
   "metadata": {},
   "outputs": [
    {
     "name": "stdout",
     "output_type": "stream",
     "text": [
      "3\n"
     ]
    }
   ],
   "source": [
    "def sum(x,y):\n",
    "    s= x+y\n",
    "    return s\n",
    "result = sum(1,2)\n",
    "print(result)"
   ]
  },
  {
   "cell_type": "markdown",
   "metadata": {},
   "source": [
    "### 함수 반환 값은 한 개 이상일 수 있다."
   ]
  },
  {
   "cell_type": "code",
   "execution_count": 7,
   "metadata": {},
   "outputs": [
    {
     "name": "stdout",
     "output_type": "stream",
     "text": [
      "4 5 6\n",
      "(4, 5, 6)\n"
     ]
    }
   ],
   "source": [
    "def multi_ret_func(x):\n",
    "    return x+1, x+2, x+3\n",
    "x = 100\n",
    "y1, y2,y3 = multi_ret_func(3)\n",
    "print(y1,y2,y3)\n",
    "z = multi_ret_func(3)\n",
    "print(z) #반환 값은 tuple"
   ]
  },
  {
   "cell_type": "markdown",
   "metadata": {},
   "source": [
    "### Default parameter"
   ]
  },
  {
   "cell_type": "code",
   "execution_count": 8,
   "metadata": {},
   "outputs": [
    {
     "name": "stdout",
     "output_type": "stream",
     "text": [
      "name == Dave\n",
      "name == Dave\n"
     ]
    }
   ],
   "source": [
    "def print_name(name,count =2): #Default parameter는 오른쪽 부터 채워야 한다.\n",
    "    for i in range(count):\n",
    "        print(\"name ==\",name)\n",
    "print_name(\"Dave\")"
   ]
  },
  {
   "cell_type": "markdown",
   "metadata": {},
   "source": [
    "### mutable / immutable parameter"
   ]
  },
  {
   "cell_type": "code",
   "execution_count": 9,
   "metadata": {},
   "outputs": [
    {
     "name": "stdout",
     "output_type": "stream",
     "text": [
      "x == 1 , test_list == [1, 2, 3, 100]\n"
     ]
    }
   ],
   "source": [
    "def mutable_immutable_func(int_x, input_list): #원래 데이터가 mutable data 면 원래 data의 변형이 생김\n",
    "    int_x += 1                  \n",
    "    input_list.append(100)\n",
    "x =1\n",
    "test_list = [1,2,3]  #immutable data 는 숫자, 문자, tuple 등\n",
    "mutable_immutable_func(x,test_list)\n",
    "print(\"x ==\",x,\", test_list ==\",test_list)\n",
    "    "
   ]
  },
  {
   "cell_type": "markdown",
   "metadata": {},
   "source": [
    "### lambda   \n",
    "c 언어에서 #define과 비슷 "
   ]
  },
  {
   "cell_type": "code",
   "execution_count": null,
   "metadata": {},
   "outputs": [],
   "source": []
  }
 ],
 "metadata": {
  "kernelspec": {
   "display_name": "Python 3",
   "language": "python",
   "name": "python3"
  },
  "language_info": {
   "codemirror_mode": {
    "name": "ipython",
    "version": 3
   },
   "file_extension": ".py",
   "mimetype": "text/x-python",
   "name": "python",
   "nbconvert_exporter": "python",
   "pygments_lexer": "ipython3",
   "version": "3.6.8"
  }
 },
 "nbformat": 4,
 "nbformat_minor": 2
}
