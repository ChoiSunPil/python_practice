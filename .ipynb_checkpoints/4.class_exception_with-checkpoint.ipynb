{
 "cells": [
  {
   "cell_type": "markdown",
   "metadata": {},
   "source": [
    "## 파이선도 class 가 있다."
   ]
  },
  {
   "cell_type": "markdown",
   "metadata": {},
   "source": [
    "## 객체 지향 3대 특징\n",
    "### encapsulation -class\n",
    "c++은 포인터 접근이 가능하기 때문에 enapsulation 위배된다.따라서 진정한 OOP는 아니다\n",
    "### inheritance - reuse \n",
    "### polymorphism - default parameter or counter of paramter -> less labor"
   ]
  },
  {
   "cell_type": "code",
   "execution_count": 2,
   "metadata": {},
   "outputs": [
    {
     "name": "stdout",
     "output_type": "stream",
     "text": [
      "sun pil is initialized\n",
      "sun pil is working in apple\n",
      "[def] KIM\n",
      "sun pil is working in apple\n",
      "2\n"
     ]
    }
   ],
   "source": [
    "def work(name):\n",
    "    print(\"[def]\",name)\n",
    "\n",
    "class Person:\n",
    "    \n",
    "    count = 0 #class Variable\n",
    "    def __init__(self,name, name2): #클래스 파라미터는 무조건 첫번째 self가 들어 가야 한다.\n",
    "        self.name = name\n",
    "        self.__name2 = name2 #__변수명은 private\n",
    "        print(self.name + \" is initialized\")\n",
    "        Person.count +=1\n",
    "    def work(self,company):\n",
    "        print(self.name + \" is working in \"+ company)\n",
    "    def call_test(self):\n",
    "        work(\"KIM\")\n",
    "        self.work(\"apple\") #같은 이름 함수 있을 때는 self.\n",
    "    ## test\n",
    "    def addCount(self):   ##클래스 매서드랑 같은 효과\n",
    "        Person.count+=1\n",
    "    ##    \n",
    "    @classmethod  #static variable 접근을 위한 메서드\n",
    "    def getCount(cls):\n",
    "        return cls.count\n",
    "#Python에서는 기본이 public incapsulation에 위배된다.\n",
    "#__로 시작하는 것은 private, __init__ 메서드도 private이다.\n",
    "#클래스 변수는 해당 클래스 인스턴스가 공통으로 사용\n",
    "obj = Person(\"sun pil\",\"choi\")\n",
    "obj.work(\"apple\")\n",
    "obj.call_test()\n",
    "obj.addCount()\n",
    "print(Person.count) #클래스 변수 호출 비추천 방식"
   ]
  },
  {
   "cell_type": "markdown",
   "metadata": {},
   "source": [
    "# 예외처리"
   ]
  },
  {
   "cell_type": "code",
   "execution_count": 7,
   "metadata": {},
   "outputs": [],
   "source": [
    "def calc(list_data):\n",
    "    sum = 0\n",
    "    \n",
    "    try:\n",
    "        sum = list_data[0] + list_data[1] + list_data[2]\n",
    "        if sum <0 :\n",
    "            raise Exception(\"Sum is minus\") #예외 발생 throw와 유사\n",
    "    except  IndexError as err:\n",
    "        print(str(err))\n",
    "    except Exception as err:\n",
    "        #print(str(err))\n",
    "        pass\n",
    "    finally:    #예외 발생 상관 없이 실행\n",
    "        print(sum) \n",
    "        "
   ]
  },
  {
   "cell_type": "code",
   "execution_count": 2,
   "metadata": {},
   "outputs": [
    {
     "name": "stdout",
     "output_type": "stream",
     "text": [
      "list index out of range\n",
      "0\n"
     ]
    }
   ],
   "source": [
    "calc([1,2])"
   ]
  },
  {
   "cell_type": "code",
   "execution_count": 3,
   "metadata": {},
   "outputs": [
    {
     "name": "stdout",
     "output_type": "stream",
     "text": [
      "Sum is minus\n",
      "-101\n"
     ]
    }
   ],
   "source": [
    "calc([1,-2,-100]) "
   ]
  },
  {
   "cell_type": "markdown",
   "metadata": {},
   "source": [
    "## with 구문\n",
    "\n",
    "with 구문 사용시 명시적으로 close 안해주어도, 구문 벗어나면 자동으로 close"
   ]
  },
  {
   "cell_type": "code",
   "execution_count": 4,
   "metadata": {},
   "outputs": [],
   "source": [
    "with open(\"./file_test\",'w') as f:\n",
    "    f.write(\"Hello Python!! \")"
   ]
  },
  {
   "cell_type": "code",
   "execution_count": null,
   "metadata": {},
   "outputs": [],
   "source": []
  }
 ],
 "metadata": {
  "kernelspec": {
   "display_name": "Python 3",
   "language": "python",
   "name": "python3"
  },
  "language_info": {
   "codemirror_mode": {
    "name": "ipython",
    "version": 3
   },
   "file_extension": ".py",
   "mimetype": "text/x-python",
   "name": "python",
   "nbconvert_exporter": "python",
   "pygments_lexer": "ipython3",
   "version": "3.6.8"
  }
 },
 "nbformat": 4,
 "nbformat_minor": 2
}
