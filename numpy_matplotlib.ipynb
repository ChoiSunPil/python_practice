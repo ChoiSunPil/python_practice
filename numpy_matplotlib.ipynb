{
 "cells": [
  {
   "cell_type": "markdown",
   "metadata": {},
   "source": [
    "# numpy \n",
    "\n",
    "## mandatory(ML,DA,NA)"
   ]
  },
  {
   "cell_type": "code",
   "execution_count": 1,
   "metadata": {},
   "outputs": [
    {
     "name": "stdout",
     "output_type": "stream",
     "text": [
      "A == [1 2] type == <class 'numpy.ndarray'>\n"
     ]
    }
   ],
   "source": [
    "import numpy\n",
    "A = numpy.array([1,2])\n",
    "print(\"A ==\",A,\"type ==\",type(A))"
   ]
  },
  {
   "cell_type": "code",
   "execution_count": 2,
   "metadata": {},
   "outputs": [
    {
     "name": "stdout",
     "output_type": "stream",
     "text": [
      "A == [1 2] type == <class 'numpy.ndarray'>\n"
     ]
    }
   ],
   "source": [
    "#권장하는 사용법\n",
    "import numpy as np\n",
    "A = np.array([1,2])\n",
    "print(\"A ==\",A,\"type ==\",type(A))"
   ]
  },
  {
   "cell_type": "code",
   "execution_count": 4,
   "metadata": {},
   "outputs": [
    {
     "name": "stdout",
     "output_type": "stream",
     "text": [
      "result ==  2.718281828459045 , type == <class 'numpy.float64'>\n"
     ]
    }
   ],
   "source": [
    "#주로 사용되지만 비추천\n",
    "from numpy import exp #numpy 라이브러리 안에 exp 만 갖다 쓰겠다. \n",
    "#from numpy impory * numpy 라이브러리 안에 모든것을 갖다 쓰겠다.\n",
    "result  = exp(1)\n",
    "print(\"result == \",result,\", type ==\",type(result))"
   ]
  },
  {
   "cell_type": "markdown",
   "metadata": {},
   "source": [
    "## vector : 1차원 배열\n",
    "## matrix : 2차원 행렬\n",
    "## tensor:  3차원 이상\n",
    "### tensorflow 에서 \"데이터 정의\"가 중요 나머지는 공식에 의해 넣기만 하면 된다."
   ]
  },
  {
   "cell_type": "markdown",
   "metadata": {},
   "source": [
    "## numpy VS list\n",
    "행렬 연산하기 위해서는 numpy 사용이 필수다."
   ]
  },
  {
   "cell_type": "code",
   "execution_count": 10,
   "metadata": {},
   "outputs": [
    {
     "name": "stdout",
     "output_type": "stream",
     "text": [
      "[[2 1]\n",
      " [1 2]] \n",
      " [[1 0]\n",
      " [0 1]]\n"
     ]
    }
   ],
   "source": [
    "A = np.array([[1,0],[0,1]])\n",
    "B = np.array([[1,1],[1,1]])\n",
    "C = A +B \n",
    "D = A *B\n",
    "print(C,\"\\n\",D)"
   ]
  },
  {
   "cell_type": "code",
   "execution_count": 15,
   "metadata": {},
   "outputs": [
    {
     "name": "stdout",
     "output_type": "stream",
     "text": [
      "A.shape == (3,) B.shape == (3, 3)\n",
      "A.ndim == 1 B.ndim == 2\n"
     ]
    }
   ],
   "source": [
    "A = np.array([1,2,3])\n",
    "B = np.array([[4,5,6],[4,5,6],[4,5,6]])\n",
    "\n",
    "# vector A,B 형상 출력 => shape\n",
    "print(\"A.shape ==\",A.shape,\"B.shape ==\",B.shape) #vector는 행이 될수도 열이 될수도 있기 떄문에 유연하다.\n",
    "print(\"A.ndim ==\",A.ndim,\"B.ndim ==\",B.ndim)"
   ]
  },
  {
   "cell_type": "markdown",
   "metadata": {},
   "source": [
    "## shape 확인 \n",
    "* reshape\n",
    "* transpose\n",
    "* dot product\n",
    "\n",
    "### shape 을 일일히 다 확인 하는 작업이 필요하다.\n",
    "### 곱하기의 의미 : 원하는 출력을 만들기 위해 입력 값을 변형 해 주는 것.\n",
    "### ex) *1 원본 데이터 보존 *0 데이터 삭제  *3 확대\n",
    "### 행렬 곱 : 평균적인 effact 를 알 수 있다.\n",
    "\n"
   ]
  },
  {
   "cell_type": "code",
   "execution_count": 5,
   "metadata": {},
   "outputs": [
    {
     "name": "stdout",
     "output_type": "stream",
     "text": [
      "A.shape == (1, 3)\n"
     ]
    }
   ],
   "source": [
    "import numpy as np\n",
    "A = np.array([1,2,3])\n",
    "A = A.reshape(1,3)\n",
    "print(\"A.shape ==\",A.shape)"
   ]
  },
  {
   "cell_type": "markdown",
   "metadata": {},
   "source": [
    "###  행렬 곱은 원래 데이터를 줄이는 효과 =>압축 알고리즘은 행렬을 이용해서 한다. "
   ]
  },
  {
   "cell_type": "markdown",
   "metadata": {},
   "source": [
    "## numpy broadcast => 사칙연산에서 쓰이는 것이다.\n"
   ]
  },
  {
   "cell_type": "markdown",
   "metadata": {},
   "source": [
    "* numpy는 차원이 작은쪽을 큰 쪽으로 맞추어줘서 사칙연산이 가능하게 한다.\n",
    "* 행렬 곱에는 적용 시킬 수 없다."
   ]
  },
  {
   "cell_type": "markdown",
   "metadata": {},
   "source": [
    "## transpose\n",
    "* 3X2 -> 2X3 :1행을 1열, 2행을 2열\n"
   ]
  }
 ],
 "metadata": {
  "kernelspec": {
   "display_name": "Python 3",
   "language": "python",
   "name": "python3"
  },
  "language_info": {
   "codemirror_mode": {
    "name": "ipython",
    "version": 3
   },
   "file_extension": ".py",
   "mimetype": "text/x-python",
   "name": "python",
   "nbconvert_exporter": "python",
   "pygments_lexer": "ipython3",
   "version": "3.6.8"
  }
 },
 "nbformat": 4,
 "nbformat_minor": 2
}
